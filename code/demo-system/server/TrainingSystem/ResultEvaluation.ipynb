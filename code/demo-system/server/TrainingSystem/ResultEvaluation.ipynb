{
 "cells": [
  {
   "cell_type": "code",
   "execution_count": 110,
   "metadata": {},
   "outputs": [],
   "source": [
    "import os\n",
    "import json\n",
    "import csv"
   ]
  },
  {
   "cell_type": "code",
   "execution_count": 111,
   "metadata": {},
   "outputs": [],
   "source": [
    "# load configs\n",
    "with open(os.path.join(os.path.abspath(''), \"Configs\", \"configs.json\"), \"r\") as json_file:\n",
    "    configs = json.load(json_file)"
   ]
  },
  {
   "cell_type": "code",
   "execution_count": 112,
   "metadata": {},
   "outputs": [
    {
     "data": {
      "text/plain": [
       "148800"
      ]
     },
     "execution_count": 112,
     "metadata": {},
     "output_type": "execute_result"
    }
   ],
   "source": [
    "# load results\n",
    "results = []\n",
    "with open(os.path.join(os.path.abspath(''), \"results.csv\"), newline='') as csv_file:\n",
    "    reader = csv.DictReader(csv_file, delimiter=';')\n",
    "    for row in reader:\n",
    "        results.append(row)\n",
    "\n",
    "len(results)"
   ]
  },
  {
   "cell_type": "code",
   "execution_count": 113,
   "metadata": {},
   "outputs": [
    {
     "data": {
      "text/plain": [
       "148800"
      ]
     },
     "execution_count": 113,
     "metadata": {},
     "output_type": "execute_result"
    }
   ],
   "source": [
    "# clear empty feature results\n",
    "def clear_empty_feature_results(results):\n",
    "    cleared_results = []\n",
    "    for result in results:\n",
    "        if result['lpc_weight'] == '0' and result['lpcc_weight'] == '0' and result['mfcc_weight'] == '0' and result['delta_mfcc_weight'] == '0':\n",
    "            continue\n",
    "        cleared_results.append(result)\n",
    "    return cleared_results\n",
    "\n",
    "results = clear_empty_feature_results(results)\n",
    "\n",
    "len(results)"
   ]
  },
  {
   "cell_type": "code",
   "execution_count": 114,
   "metadata": {},
   "outputs": [
    {
     "data": {
      "text/plain": [
       "480"
      ]
     },
     "execution_count": 114,
     "metadata": {},
     "output_type": "execute_result"
    }
   ],
   "source": [
    "# clear empty configs\n",
    "def clear_empty_configs(configs):\n",
    "    cleared_configs = []\n",
    "    for config in configs:\n",
    "        if config['lpc_weight'] == 0 and config['lpcc_weight'] == 0 and config['mfcc_weight'] == 0 and config['delta_mfcc_weight'] == 0:\n",
    "            continue\n",
    "        cleared_configs.append(config)\n",
    "    return cleared_configs\n",
    "\n",
    "configs = clear_empty_configs(configs)\n",
    "\n",
    "len(configs)"
   ]
  },
  {
   "cell_type": "code",
   "execution_count": 115,
   "metadata": {},
   "outputs": [],
   "source": [
    "# get config for result\n",
    "def get_config_for_result(result):\n",
    "    # amount_of_frames;size_of_frame;lpc_weight;lpc_order;mfcc_weight;mfcc_order;lpcc_weight;lpcc_order;delta_mfcc_weight;delta_mfcc_order\n",
    "    for config in configs:\n",
    "        if (\n",
    "            config['amount_of_frames'] == int(result['amount_of_frames']) and\n",
    "            config['size_of_frame'] == int(result['size_of_frame']) and\n",
    "            config['lpc_weight'] == int(result['lpc_weight']) and\n",
    "            config['lpc_order'] == int(result['lpc_order']) and\n",
    "            config['mfcc_weight'] == int(result['mfcc_weight']) and\n",
    "            config['mfcc_order'] == int(result['mfcc_order']) and\n",
    "            config['lpcc_weight'] == int(result['lpcc_weight']) and\n",
    "            config['lpcc_order'] == int(result['lpcc_order']) and\n",
    "            config['delta_mfcc_weight'] == int(result['delta_mfcc_weight']) and\n",
    "            config['delta_mfcc_order'] == int(result['delta_mfcc_order'])\n",
    "        ):\n",
    "            return config"
   ]
  },
  {
   "cell_type": "code",
   "execution_count": 116,
   "metadata": {},
   "outputs": [],
   "source": [
    "# get results for config\n",
    "def get_results_for_config(config):\n",
    "    matched_results = []\n",
    "    for result in results:\n",
    "        if (\n",
    "            config['amount_of_frames'] == int(result['amount_of_frames']) and\n",
    "            config['size_of_frame'] == int(result['size_of_frame']) and\n",
    "            config['lpc_weight'] == int(result['lpc_weight']) and\n",
    "            config['lpc_order'] == int(result['lpc_order']) and\n",
    "            config['mfcc_weight'] == int(result['mfcc_weight']) and\n",
    "            config['mfcc_order'] == int(result['mfcc_order']) and\n",
    "            config['lpcc_weight'] == int(result['lpcc_weight']) and\n",
    "            config['lpcc_order'] == int(result['lpcc_order']) and\n",
    "            config['delta_mfcc_weight'] == int(result['delta_mfcc_weight']) and\n",
    "            config['delta_mfcc_order'] == int(result['delta_mfcc_order'])\n",
    "        ):\n",
    "            matched_results.append(result)\n",
    "\n",
    "    return matched_results"
   ]
  },
  {
   "cell_type": "code",
   "execution_count": 117,
   "metadata": {},
   "outputs": [],
   "source": [
    "for config in configs:\n",
    "    all_results_for_config = get_results_for_config(config)\n",
    "    # only the first 300 results are relevant\n",
    "    config['results'] = all_results_for_config[:300]"
   ]
  },
  {
   "cell_type": "code",
   "execution_count": 118,
   "metadata": {},
   "outputs": [
    {
     "data": {
      "text/plain": [
       "0"
      ]
     },
     "execution_count": 118,
     "metadata": {},
     "output_type": "execute_result"
    }
   ],
   "source": [
    "# check if there are always 300 results for each config\n",
    "false_configs = []\n",
    "for config in configs:\n",
    "    if len(config['results']) != 300:\n",
    "        print(f\"Config {config['id']} has {len(config['results'])} results\")\n",
    "        false_configs.append(config)\n",
    "\n",
    "len(false_configs)"
   ]
  },
  {
   "cell_type": "code",
   "execution_count": 119,
   "metadata": {},
   "outputs": [
    {
     "data": {
      "text/plain": [
       "144000"
      ]
     },
     "execution_count": 119,
     "metadata": {},
     "output_type": "execute_result"
    }
   ],
   "source": [
    "# new results (with only the first 300 results for each config)\n",
    "new_results = []\n",
    "for config in configs:\n",
    "    for result in config['results']:\n",
    "        new_results.append(result)\n",
    "\n",
    "results = new_results\n",
    "len(results)"
   ]
  },
  {
   "cell_type": "code",
   "execution_count": 120,
   "metadata": {},
   "outputs": [],
   "source": [
    "# get absolute accuracy of result\n",
    "def get_absolute_accuracy(result) -> float:\n",
    "\n",
    "    correct_speaker = result['correct_speaker_id']\n",
    "    accuracy = result[f'speaker_{correct_speaker}']\n",
    "    return float(accuracy)"
   ]
  },
  {
   "cell_type": "code",
   "execution_count": 121,
   "metadata": {},
   "outputs": [
    {
     "name": "stdout",
     "output_type": "stream",
     "text": [
      "0.0\n"
     ]
    }
   ],
   "source": [
    "test_accuracy = get_absolute_accuracy(results[0])\n",
    "print(test_accuracy)"
   ]
  },
  {
   "cell_type": "code",
   "execution_count": 122,
   "metadata": {},
   "outputs": [
    {
     "data": {
      "text/plain": [
       "(0.41184821371728525, 0.4234793638917221)"
      ]
     },
     "execution_count": 122,
     "metadata": {},
     "output_type": "execute_result"
    }
   ],
   "source": [
    "# check which amount_of_frames is better (10000 or 15000)\n",
    "results_with_10000_frames = []\n",
    "results_with_15000_frames = []\n",
    "for result in results:\n",
    "    if result['amount_of_frames'] == '10000':\n",
    "        results_with_10000_frames.append(result)\n",
    "    elif result['amount_of_frames'] == '15000':\n",
    "        results_with_15000_frames.append(result)\n",
    "    else:\n",
    "        print('Error: amount_of_frames is not 10000 or 15000')\n",
    "\n",
    "avg_accuracy_10000_frames = 0\n",
    "avg_accuracy_15000_frames = 0\n",
    "\n",
    "for result in results_with_10000_frames:\n",
    "    avg_accuracy_10000_frames += get_absolute_accuracy(result)\n",
    "\n",
    "for result in results_with_15000_frames:\n",
    "    avg_accuracy_15000_frames += get_absolute_accuracy(result)\n",
    "\n",
    "avg_accuracy_10000_frames /= len(results_with_10000_frames)\n",
    "avg_accuracy_15000_frames /= len(results_with_15000_frames)\n",
    "\n",
    "avg_accuracy_10000_frames, avg_accuracy_15000_frames\n"
   ]
  },
  {
   "cell_type": "code",
   "execution_count": 123,
   "metadata": {},
   "outputs": [],
   "source": [
    "results = results_with_15000_frames"
   ]
  },
  {
   "cell_type": "code",
   "execution_count": 124,
   "metadata": {},
   "outputs": [
    {
     "data": {
      "text/plain": [
       "(0.4135228420659765, 0.4334358857174818)"
      ]
     },
     "execution_count": 124,
     "metadata": {},
     "output_type": "execute_result"
    }
   ],
   "source": [
    "# check which size_of_frame is better (400 or 600)\n",
    "results_with_400_frames = []\n",
    "results_with_600_frames = []\n",
    "for result in results:\n",
    "    if result['size_of_frame'] == '400':\n",
    "        results_with_400_frames.append(result)\n",
    "    elif result['size_of_frame'] == '600':\n",
    "        results_with_600_frames.append(result)\n",
    "    else:\n",
    "        print('Error: size_of_frame is not 400 or 600')\n",
    "\n",
    "avg_accuracy_400_frames = 0\n",
    "avg_accuracy_600_frames = 0\n",
    "\n",
    "for result in results_with_400_frames:\n",
    "    avg_accuracy_400_frames += get_absolute_accuracy(result)\n",
    "\n",
    "for result in results_with_600_frames:\n",
    "    avg_accuracy_600_frames += get_absolute_accuracy(result)\n",
    "\n",
    "avg_accuracy_400_frames /= len(results_with_400_frames)\n",
    "avg_accuracy_600_frames /= len(results_with_600_frames)\n",
    "\n",
    "avg_accuracy_400_frames, avg_accuracy_600_frames"
   ]
  },
  {
   "cell_type": "code",
   "execution_count": 125,
   "metadata": {},
   "outputs": [],
   "source": [
    "results = results_with_600_frames"
   ]
  },
  {
   "cell_type": "code",
   "execution_count": 128,
   "metadata": {},
   "outputs": [
    {
     "data": {
      "text/plain": [
       "(472, 0.8032763993835045)"
      ]
     },
     "execution_count": 128,
     "metadata": {},
     "output_type": "execute_result"
    }
   ],
   "source": [
    "# get best config (avg accuracy)\n",
    "best_config = None\n",
    "best_accuracy = 0\n",
    "for config in configs:\n",
    "\n",
    "    avg_accuracy = 0\n",
    "    for result in config['results']:\n",
    "        avg_accuracy += get_absolute_accuracy(result)\n",
    "    avg_accuracy /= len(config['results'])\n",
    "    if avg_accuracy > best_accuracy:\n",
    "        best_accuracy = avg_accuracy\n",
    "        best_config = config\n",
    "\n",
    "best_config[\"id\"], best_accuracy"
   ]
  }
 ],
 "metadata": {
  "kernelspec": {
   "display_name": "Python 3.10.11 64-bit",
   "language": "python",
   "name": "python3"
  },
  "language_info": {
   "codemirror_mode": {
    "name": "ipython",
    "version": 3
   },
   "file_extension": ".py",
   "mimetype": "text/x-python",
   "name": "python",
   "nbconvert_exporter": "python",
   "pygments_lexer": "ipython3",
   "version": "3.10.11"
  },
  "orig_nbformat": 4,
  "vscode": {
   "interpreter": {
    "hash": "bd385fe162c5ca0c84973b7dd5c518456272446b2b64e67c2a69f949ca7a1754"
   }
  }
 },
 "nbformat": 4,
 "nbformat_minor": 2
}