{
 "cells": [
  {
   "cell_type": "code",
   "execution_count": 1,
   "metadata": {},
   "outputs": [],
   "source": [
    "import os\n",
    "import json\n",
    "import csv"
   ]
  },
  {
   "cell_type": "code",
   "execution_count": 45,
   "metadata": {},
   "outputs": [],
   "source": [
    "# load configs\n",
    "with open(os.path.join(os.path.abspath(''), \"Configs\", \"configs.json\"), \"r\") as json_file:\n",
    "    configs = json.load(json_file)"
   ]
  },
  {
   "cell_type": "code",
   "execution_count": 10,
   "metadata": {},
   "outputs": [
    {
     "data": {
      "text/plain": [
       "800"
      ]
     },
     "execution_count": 10,
     "metadata": {},
     "output_type": "execute_result"
    }
   ],
   "source": [
    "# load results\n",
    "results = []\n",
    "with open(os.path.join(os.path.abspath(''), \"results.csv\"), newline='') as csv_file:\n",
    "    reader = csv.DictReader(csv_file, delimiter=';')\n",
    "    for row in reader:\n",
    "        results.append(row)\n",
    "\n",
    "len(results)"
   ]
  },
  {
   "cell_type": "code",
   "execution_count": null,
   "metadata": {},
   "outputs": [],
   "source": [
    "# clear empty feature results\n",
    "def clear_empty_feature_results(results):\n",
    "    cleared_results = []\n",
    "    for result in results:\n",
    "        if result['lpc_weight'] == '0' and result['lpcc_weight'] == '0' and result['mfcc_weight'] == '0' and result['delta_mfcc_weight'] == '0':\n",
    "            continue\n",
    "        cleared_results.append(result)\n",
    "    return cleared_results\n",
    "results = clear_empty_feature_results(results)\n",
    "len(results)"
   ]
  },
  {
   "cell_type": "code",
   "execution_count": null,
   "metadata": {},
   "outputs": [],
   "source": [
    "# clear empty configs\n",
    "def clear_empty_configs(configs):\n",
    "    cleared_configs = []\n",
    "    for config in configs:\n",
    "        if config['lpc_weight'] == 0 and config['lpcc_weight'] == 0 and config['mfcc_weight'] == 0 and config['delta_mfcc_weight'] == 0:\n",
    "            continue\n",
    "        cleared_configs.append(config)\n",
    "    return cleared_configs\n",
    "configs = clear_empty_configs(configs)\n",
    "len(configs)"
   ]
  },
  {
   "cell_type": "code",
   "execution_count": null,
   "metadata": {},
   "outputs": [],
   "source": [
    "# get config for result\n",
    "def get_config_for_result(result):\n",
    "    # amount_of_frames;size_of_frame;lpc_weight;lpc_order;mfcc_weight;mfcc_order;lpcc_weight;lpcc_order;delta_mfcc_weight;delta_mfcc_order\n",
    "    for config in configs:\n",
    "        if (\n",
    "            config['amount_of_frames'] == int(result['amount_of_frames']) and\n",
    "            config['size_of_frame'] == int(result['size_of_frame']) and\n",
    "            config['lpc_weight'] == int(result['lpc_weight']) and\n",
    "            config['lpc_order'] == int(result['lpc_order']) and\n",
    "            config['mfcc_weight'] == int(result['mfcc_weight']) and\n",
    "            config['mfcc_order'] == int(result['mfcc_order']) and\n",
    "            config['lpcc_weight'] == int(result['lpcc_weight']) and\n",
    "            config['lpcc_order'] == int(result['lpcc_order']) and\n",
    "            config['delta_mfcc_weight'] == int(result['delta_mfcc_weight']) and\n",
    "            config['delta_mfcc_order'] == int(result['delta_mfcc_order'])\n",
    "        ):\n",
    "            return config"
   ]
  },
  {
   "cell_type": "code",
   "execution_count": null,
   "metadata": {},
   "outputs": [],
   "source": [
    "# get results for config\n",
    "def get_results_for_config(config):\n",
    "    matched_results = []\n",
    "    for result in results:\n",
    "        if (\n",
    "            config['amount_of_frames'] == int(result['amount_of_frames']) and\n",
    "            config['size_of_frame'] == int(result['size_of_frame']) and\n",
    "            config['lpc_weight'] == int(result['lpc_weight']) and\n",
    "            config['lpc_order'] == int(result['lpc_order']) and\n",
    "            config['mfcc_weight'] == int(result['mfcc_weight']) and\n",
    "            config['mfcc_order'] == int(result['mfcc_order']) and\n",
    "            config['lpcc_weight'] == int(result['lpcc_weight']) and\n",
    "            config['lpcc_order'] == int(result['lpcc_order']) and\n",
    "            config['delta_mfcc_weight'] == int(result['delta_mfcc_weight']) and\n",
    "            config['delta_mfcc_order'] == int(result['delta_mfcc_order'])\n",
    "        ):\n",
    "            matched_results.append(result)\n",
    "    return matched_results"
   ]
  },
  {
   "cell_type": "code",
   "execution_count": null,
   "metadata": {},
   "outputs": [],
   "source": [
    "for config in configs:\n",
    "    all_results_for_config = get_results_for_config(config)\n",
    "    # only the first 300 results are relevant\n",
    "    config['results'] = all_results_for_config[:300]"
   ]
  },
  {
   "cell_type": "code",
   "execution_count": null,
   "metadata": {},
   "outputs": [],
   "source": [
    "# check if there are always 300 results for each config\n",
    "false_configs = []\n",
    "for config in configs:\n",
    "    if len(config['results']) != 300:\n",
    "        print(f\"Config {config['id']} has {len(config['results'])} results\")\n",
    "        false_configs.append(config)\n",
    "\n",
    "len(false_configs)"
   ]
  },
  {
   "cell_type": "code",
   "execution_count": null,
   "metadata": {},
   "outputs": [],
   "source": [
    "# new results (with only the first 300 results for each config)\n",
    "new_results = []\n",
    "for config in configs:\n",
    "    for result in config['results']:\n",
    "        new_results.append(result)\n",
    "\n",
    "results = new_results\n",
    "len(results)"
   ]
  },
  {
   "cell_type": "code",
   "execution_count": 3,
   "metadata": {},
   "outputs": [],
   "source": [
    "# get absolute accuracy of result\n",
    "def get_absolute_accuracy(result) -> float:\n",
    "    correct_speaker = result['correct_speaker_id']\n",
    "    accuracy = result[f'speaker_{correct_speaker}']\n",
    "    return float(accuracy)"
   ]
  },
  {
   "cell_type": "code",
   "execution_count": null,
   "metadata": {},
   "outputs": [],
   "source": [
    "test_accuracy = get_absolute_accuracy(results[0])\n",
    "print(test_accuracy)"
   ]
  },
  {
   "cell_type": "code",
   "execution_count": null,
   "metadata": {},
   "outputs": [],
   "source": [
    "# # check which amount_of_frames is better (10000 or 15000)\n",
    "# results_with_10000_frames = []\n",
    "# results_with_15000_frames = []\n",
    "# for result in results:\n",
    "#     if result['amount_of_frames'] == '10000':\n",
    "#         results_with_10000_frames.append(result)\n",
    "#     elif result['amount_of_frames'] == '15000':\n",
    "#         results_with_15000_frames.append(result)\n",
    "#     else:\n",
    "#         print('Error: amount_of_frames is not 10000 or 15000')\n",
    "\n",
    "# # get average accuracy for each amount_of_frames\n",
    "# avg_accuracy_10000_frames = 0\n",
    "# avg_accuracy_15000_frames = 0\n",
    "# for result in results_with_10000_frames:\n",
    "#     avg_accuracy_10000_frames += get_absolute_accuracy(result)\n",
    "# for result in results_with_15000_frames:\n",
    "#     avg_accuracy_15000_frames += get_absolute_accuracy(result)\n",
    "# avg_accuracy_10000_frames /= len(results_with_10000_frames)\n",
    "# avg_accuracy_15000_frames /= len(results_with_15000_frames)\n",
    "\n",
    "# avg_accuracy_10000_frames, avg_accuracy_15000_frames\n"
   ]
  },
  {
   "cell_type": "code",
   "execution_count": null,
   "metadata": {},
   "outputs": [],
   "source": [
    "# results = results_with_15000_frames"
   ]
  },
  {
   "cell_type": "code",
   "execution_count": null,
   "metadata": {},
   "outputs": [],
   "source": [
    "# # check which size_of_frame is better (400 or 600)\n",
    "# results_with_400_frames = []\n",
    "# results_with_600_frames = []\n",
    "# for result in results:\n",
    "#     if result['size_of_frame'] == '400':\n",
    "#         results_with_400_frames.append(result)\n",
    "#     elif result['size_of_frame'] == '600':\n",
    "#         results_with_600_frames.append(result)\n",
    "#     else:\n",
    "#         print('Error: size_of_frame is not 400 or 600')\n",
    "\n",
    "# # get average accuracy for each size_of_frame\n",
    "# avg_accuracy_400_frames = 0\n",
    "# avg_accuracy_600_frames = 0\n",
    "# for result in results_with_400_frames:\n",
    "#     avg_accuracy_400_frames += get_absolute_accuracy(result)\n",
    "# for result in results_with_600_frames:\n",
    "#     avg_accuracy_600_frames += get_absolute_accuracy(result)\n",
    "# avg_accuracy_400_frames /= len(results_with_400_frames)\n",
    "# avg_accuracy_600_frames /= len(results_with_600_frames)\n",
    "\n",
    "# avg_accuracy_400_frames, avg_accuracy_600_frames"
   ]
  },
  {
   "cell_type": "code",
   "execution_count": null,
   "metadata": {},
   "outputs": [],
   "source": [
    "# results = results_with_600_frames"
   ]
  },
  {
   "cell_type": "code",
   "execution_count": null,
   "metadata": {},
   "outputs": [],
   "source": [
    "# get best 10 configs (avg accuracy)\n",
    "best_configs = []\n",
    "for config in configs:\n",
    "    avg_accuracy = 0\n",
    "    for result in config['results']:\n",
    "        avg_accuracy += get_absolute_accuracy(result)\n",
    "    avg_accuracy /= len(config['results'])\n",
    "    \n",
    "    # check if config is better than worst config in best_configs\n",
    "    if len(best_configs) < 10:\n",
    "        best_configs.append({\n",
    "            'id': config['id'],\n",
    "            'avg_accuracy': avg_accuracy\n",
    "        })\n",
    "    else:\n",
    "        worst_best_config = best_configs[0]\n",
    "        for best_config in best_configs:\n",
    "            if best_config['avg_accuracy'] < worst_best_config['avg_accuracy']:\n",
    "                worst_best_config = best_config\n",
    "        if avg_accuracy > worst_best_config['avg_accuracy']:\n",
    "            best_configs.remove(worst_best_config)\n",
    "            best_configs.append({\n",
    "                'id': config['id'],\n",
    "                'avg_accuracy': avg_accuracy\n",
    "            })\n",
    "            \n",
    "    # sort best_configs by avg_accuracy\n",
    "    best_configs = sorted(best_configs, key=lambda k: k['avg_accuracy'], reverse=True)\n",
    "\n",
    "\n",
    "# print best configs\n",
    "for best_config in best_configs:\n",
    "    print(f\"Config {best_config['id']} has avg accuracy of {best_config['avg_accuracy']}\")"
   ]
  },
  {
   "cell_type": "code",
   "execution_count": 14,
   "metadata": {},
   "outputs": [
    {
     "name": "stdout",
     "output_type": "stream",
     "text": [
      "Neural network ea8c5f43-b64b-4533-8f98-5f904d5f5cc3 has avg accuracy of 0.8137045796820161\n",
      "Neural network f037a739-053e-43f2-9cbf-dcac31f5e61e has avg accuracy of 0.79853250949079\n",
      "Neural network 087501f9-7e39-4679-8811-f66b056a7b17 has avg accuracy of 0.7958374340391782\n",
      "Neural network af1c9af9-c0f4-4016-9f50-5e38cfd21d3e has avg accuracy of 0.7953441940098319\n",
      "Neural network 28abdb1c-baee-430c-98cb-9b6580fa3901 has avg accuracy of 0.7918943995092471\n",
      "Neural network 9c5faf80-d03d-4ebf-8d33-427fae1323d7 has avg accuracy of 0.7881798688641435\n",
      "Neural network b180672a-1f8b-410c-a29d-b3805b39d739 has avg accuracy of 0.7849120016774915\n",
      "Neural network 9e5a1937-4600-4185-ad1d-052ab9d75b99 has avg accuracy of 0.7845734005928071\n",
      "Neural network 58d7f36b-446d-4eaa-b43f-1e750ccb8b09 has avg accuracy of 0.7807185085773548\n",
      "Neural network 6bdb36dd-82a1-40de-988f-8dc82a953e84 has avg accuracy of 0.7630860904857508\n",
      "Neural network b6ec8c07-90fb-46b4-b015-2e408b0a5a57 has avg accuracy of 0.05\n"
     ]
    }
   ],
   "source": [
    "# load results\n",
    "results = []\n",
    "with open(os.path.join(os.path.abspath(''), \"results.csv\"), newline='') as csv_file:\n",
    "    reader = csv.DictReader(csv_file, delimiter=';')\n",
    "    for row in reader:\n",
    "        results.append(row)\n",
    "\n",
    "len(results)\n",
    "\n",
    "# get best 10 neural networks (avg accuracy)\n",
    "neural_networks = []\n",
    "for result in results:\n",
    "\n",
    "    current_id = result['neural_network_id']\n",
    "\n",
    "    # check if neural network is already in neural_networks\n",
    "    already_in_neural_networks = False\n",
    "    for neural_network in neural_networks:\n",
    "        if neural_network['id'] == current_id:\n",
    "            already_in_neural_networks = True\n",
    "            break\n",
    "\n",
    "    # if neural network is not already in neural_networks, add it\n",
    "    if not already_in_neural_networks:\n",
    "        avg_accuracy = 0\n",
    "        counter = 0\n",
    "        for result2 in results:\n",
    "            if result2['neural_network_id'] == current_id:\n",
    "                avg_accuracy += get_absolute_accuracy(result2)\n",
    "                counter += 1\n",
    "        avg_accuracy /= counter\n",
    "        neural_networks.append({\n",
    "            'id': result['neural_network_id'],\n",
    "            'avg_accuracy': avg_accuracy\n",
    "        })\n",
    "\n",
    "    # sort neural_networks by avg_accuracy\n",
    "    neural_networks = sorted(neural_networks, key=lambda k: k['avg_accuracy'], reverse=True)\n",
    "\n",
    "# print best neural networks\n",
    "for neural_network in neural_networks[:100]:\n",
    "    print(f\"Neural network {neural_network['id']} has avg accuracy of {neural_network['avg_accuracy']}\")"
   ]
  }
 ],
 "metadata": {
  "kernelspec": {
   "display_name": "Python 3.10.11 64-bit",
   "language": "python",
   "name": "python3"
  },
  "language_info": {
   "codemirror_mode": {
    "name": "ipython",
    "version": 3
   },
   "file_extension": ".py",
   "mimetype": "text/x-python",
   "name": "python",
   "nbconvert_exporter": "python",
   "pygments_lexer": "ipython3",
   "version": "3.10.11"
  },
  "orig_nbformat": 4,
  "vscode": {
   "interpreter": {
    "hash": "bd385fe162c5ca0c84973b7dd5c518456272446b2b64e67c2a69f949ca7a1754"
   }
  }
 },
 "nbformat": 4,
 "nbformat_minor": 2
}
