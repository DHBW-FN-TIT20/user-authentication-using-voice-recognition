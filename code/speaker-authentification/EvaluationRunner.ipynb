{
 "cells": [
  {
   "cell_type": "code",
   "execution_count": 55,
   "metadata": {},
   "outputs": [
    {
     "name": "stdout",
     "output_type": "stream",
     "text": [
      "The autoreload extension is already loaded. To reload it, use:\n",
      "  %reload_ext autoreload\n"
     ]
    }
   ],
   "source": [
    "%load_ext autoreload\n",
    "%autoreload 2\n",
    "from FeatureEvaluation import FeatureEvaluator\n",
    "\n",
    "# feature_evaluation = FeatureEvaluator(dataset_basepath=\"/Users/johannes/repos/t3000/code/data/50_speakers_audio_data\")\n",
    "feature_evaluation = FeatureEvaluator(dataset_basepath=\"C:\\\\Users\\\\SCU8BH\\\\Documents\\\\T3000\\\\Studienarbeit\\\\Data\\\\50_speakers_audio_data\")\n"
   ]
  },
  {
   "cell_type": "code",
   "execution_count": 57,
   "metadata": {},
   "outputs": [
    {
     "name": "stdout",
     "output_type": "stream",
     "text": [
      "0\n",
      "0\n",
      "0\n",
      "0\n",
      "0\n"
     ]
    }
   ],
   "source": [
    "feature_evaluation.create_nn_data(total_input_chunks=500, frames_per_chunk=10, n_speaker=5, start_at_speaker=1)"
   ]
  },
  {
   "cell_type": "code",
   "execution_count": 58,
   "metadata": {},
   "outputs": [
    {
     "name": "stdout",
     "output_type": "stream",
     "text": [
      "3/3 [==============================] - 0s 6ms/step - loss: 0.0140 - accuracy: 1.0000\n",
      "Model accuracy achieved: 1.0\n"
     ]
    }
   ],
   "source": [
    "feature_evaluation.create_model()"
   ]
  },
  {
   "cell_type": "code",
   "execution_count": 59,
   "metadata": {},
   "outputs": [
    {
     "name": "stdout",
     "output_type": "stream",
     "text": [
      "3/3 [==============================] - 0s 5ms/step - loss: 0.0140 - accuracy: 1.0000\n",
      "Test accuracy: 1.0\n",
      "Test loss: 0.014016363769769669\n",
      "7/7 [==============================] - 0s 3ms/step\n",
      "Speaker 1: 69\n",
      "Speaker 2: 14\n",
      "Speaker 3: 34\n",
      "Speaker 4: 46\n",
      "Speaker 5: 46\n"
     ]
    }
   ],
   "source": [
    "feature_evaluation.evaluate_model_with_example(speaker_index=5, file_index=12)"
   ]
  }
 ],
 "metadata": {
  "kernelspec": {
   "display_name": "Python 3.10.4 64-bit",
   "language": "python",
   "name": "python3"
  },
  "language_info": {
   "codemirror_mode": {
    "name": "ipython",
    "version": 3
   },
   "file_extension": ".py",
   "mimetype": "text/x-python",
   "name": "python",
   "nbconvert_exporter": "python",
   "pygments_lexer": "ipython3",
   "version": "3.10.4"
  },
  "orig_nbformat": 4,
  "vscode": {
   "interpreter": {
    "hash": "2fc4d7ba6602d69fe52dcf13f0361bb9556610661c910f56182baab83bdef03f"
   }
  }
 },
 "nbformat": 4,
 "nbformat_minor": 2
}
