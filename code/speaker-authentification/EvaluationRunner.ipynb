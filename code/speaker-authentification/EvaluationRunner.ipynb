{
 "cells": [
  {
   "cell_type": "code",
   "execution_count": 1,
   "metadata": {},
   "outputs": [],
   "source": [
    "%load_ext autoreload\n",
    "%autoreload 2\n",
    "from FeatureEvaluation import FeatureEvaluator\n",
    "from FeatureExtractor.FeatureExtractor import Feature\n",
    "\n",
    "feature_evaluation = FeatureEvaluator(dataset_basepath=\"/Users/johannes/repos/t3000/code/data/50_speakers_audio_data\")\n",
    "# feature_evaluation = FeatureEvaluator(dataset_basepath=\"/home/henry/Downloads/archive/50_speakers_audio_data\")\n",
    "# feature_evaluation = FeatureEvaluator(dataset_basepath=\"C:\\\\Users\\\\SCU8BH\\\\Documents\\\\T3000\\\\Studienarbeit\\\\Data\\\\50_speakers_audio_data\")\n"
   ]
  },
  {
   "cell_type": "code",
   "execution_count": 2,
   "metadata": {},
   "outputs": [
    {
     "name": "stdout",
     "output_type": "stream",
     "text": [
      "0\r"
     ]
    },
    {
     "name": "stderr",
     "output_type": "stream",
     "text": [
      "/opt/homebrew/lib/python3.10/site-packages/librosa/util/decorators.py:88: UserWarning: n_fft=2048 is too small for input signal of length=500\n",
      "  return f(*args, **kwargs)\n"
     ]
    },
    {
     "name": "stdout",
     "output_type": "stream",
     "text": [
      "8\n",
      "9\n",
      "8\n",
      "7\n",
      "9\n"
     ]
    }
   ],
   "source": [
    "feature_set = [\n",
    "  [Feature.MFCC, 13, [1, 2]],\n",
    "  [Feature.LPC, 13, []]\n",
    "]\n",
    "feature_evaluation.create_nn_data(total_input_chunks=5000, frames_per_chunk=20, n_speaker=5, start_at_speaker=1, feature_list=feature_set)"
   ]
  },
  {
   "cell_type": "code",
   "execution_count": 3,
   "metadata": {},
   "outputs": [
    {
     "name": "stderr",
     "output_type": "stream",
     "text": [
      "2023-03-07 10:38:35.727989: W tensorflow/tsl/platform/profile_utils/cpu_utils.cc:128] Failed to get CPU frequency: 0 Hz\n"
     ]
    },
    {
     "name": "stdout",
     "output_type": "stream",
     "text": [
      "27/27 [==============================] - 0s 642us/step - loss: 1.3474e-06 - accuracy: 1.0000\n",
      "Model accuracy achieved: 1.0\n"
     ]
    }
   ],
   "source": [
    "feature_evaluation.create_model(dense_layer_sizes=[256, 128, 64, 32], epochs=2000)"
   ]
  },
  {
   "cell_type": "code",
   "execution_count": 4,
   "metadata": {},
   "outputs": [
    {
     "name": "stdout",
     "output_type": "stream",
     "text": [
      "27/27 [==============================] - 0s 645us/step - loss: 1.3474e-06 - accuracy: 1.0000\n",
      "Test accuracy: 1.0\n",
      "Test loss: 1.347358875136706e-06\n",
      "4/4 [==============================] - 0s 2ms/step\n",
      "Speaker 1: 6\n",
      "Speaker 2: 2\n",
      "Speaker 3: 4\n",
      "Speaker 4: 5\n",
      "Speaker 5: 80\n",
      "Correct: 80, Incorrect: 17\n",
      "Diff correct - closest incorrect: 74\n"
     ]
    },
    {
     "data": {
      "text/plain": [
       "([{'speaker': 1, 'count': 6},\n",
       "  {'speaker': 2, 'count': 2},\n",
       "  {'speaker': 3, 'count': 4},\n",
       "  {'speaker': 4, 'count': 5},\n",
       "  {'speaker': 5, 'count': 80}],\n",
       " 80,\n",
       " 17,\n",
       " 74)"
      ]
     },
     "execution_count": 4,
     "metadata": {},
     "output_type": "execute_result"
    }
   ],
   "source": [
    "feature_evaluation.evaluate_model_with_example(speaker_index=5, file_index=15)"
   ]
  },
  {
   "cell_type": "code",
   "execution_count": 6,
   "metadata": {},
   "outputs": [
    {
     "name": "stdout",
     "output_type": "stream",
     "text": [
      "\u001b[2KEvaluation finishedd file 14 (Correct: 1919, Incorrect: 851)\n",
      "Correct: 2010, Incorrect: 866\n",
      "Average difference between correct and closest incorrect: 58.6\n"
     ]
    }
   ],
   "source": [
    "feature_evaluation.evaluate_extensively(speaker_indices=[1, 2, 3, 4, 5], file_indices=[10, 11, 12, 13, 14], verbose=0, rebuild_model_every_iteration=False)"
   ]
  }
 ],
 "metadata": {
  "kernelspec": {
   "display_name": "Python 3.10.10 64-bit",
   "language": "python",
   "name": "python3"
  },
  "language_info": {
   "codemirror_mode": {
    "name": "ipython",
    "version": 3
   },
   "file_extension": ".py",
   "mimetype": "text/x-python",
   "name": "python",
   "nbconvert_exporter": "python",
   "pygments_lexer": "ipython3",
   "version": "3.10.10"
  },
  "orig_nbformat": 4,
  "vscode": {
   "interpreter": {
    "hash": "bd385fe162c5ca0c84973b7dd5c518456272446b2b64e67c2a69f949ca7a1754"
   }
  }
 },
 "nbformat": 4,
 "nbformat_minor": 2
}
