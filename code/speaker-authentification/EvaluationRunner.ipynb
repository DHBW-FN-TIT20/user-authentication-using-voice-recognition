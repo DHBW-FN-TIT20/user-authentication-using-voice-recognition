{
 "cells": [
  {
   "cell_type": "code",
   "execution_count": 1,
   "metadata": {},
   "outputs": [],
   "source": [
    "from FeatureEvaluation import FeatureEvaluator\n",
    "\n",
    "feature_evaluation = FeatureEvaluator(dataset_basepath=\"/Users/johannes/repos/t3000/code/data/50_speakers_audio_data\")"
   ]
  },
  {
   "cell_type": "code",
   "execution_count": 2,
   "metadata": {},
   "outputs": [
    {
     "name": "stdout",
     "output_type": "stream",
     "text": [
      "0\r"
     ]
    },
    {
     "name": "stderr",
     "output_type": "stream",
     "text": [
      "/opt/homebrew/lib/python3.10/site-packages/librosa/util/decorators.py:88: UserWarning: n_fft=2048 is too small for input signal of length=500\n",
      "  return f(*args, **kwargs)\n"
     ]
    },
    {
     "name": "stdout",
     "output_type": "stream",
     "text": [
      "8\n",
      "9\n",
      "8\n",
      "7\n",
      "9\n"
     ]
    }
   ],
   "source": [
    "feature_evaluation.create_nn_data(total_input_chunks=5000, n_speaker=5, start_at_speaker=1)"
   ]
  },
  {
   "cell_type": "code",
   "execution_count": 3,
   "metadata": {},
   "outputs": [
    {
     "name": "stderr",
     "output_type": "stream",
     "text": [
      "2023-03-01 14:40:10.106509: W tensorflow/tsl/platform/profile_utils/cpu_utils.cc:128] Failed to get CPU frequency: 0 Hz\n"
     ]
    },
    {
     "name": "stdout",
     "output_type": "stream",
     "text": [
      "27/27 [==============================] - 0s 504us/step - loss: 0.0107 - accuracy: 1.0000\n",
      "Model accuracy achieved: 1.0\n"
     ]
    }
   ],
   "source": [
    "feature_evaluation.create_model()"
   ]
  },
  {
   "cell_type": "code",
   "execution_count": 7,
   "metadata": {},
   "outputs": [
    {
     "name": "stdout",
     "output_type": "stream",
     "text": [
      "27/27 [==============================] - 0s 827us/step - loss: 0.0107 - accuracy: 1.0000\n",
      "Test accuracy: 1.0\n",
      "Test loss: 0.010686135850846767\n",
      "4/4 [==============================] - 0s 2ms/step\n",
      "Speaker 1: 2\n",
      "Speaker 2: 7\n",
      "Speaker 3: 7\n",
      "Speaker 4: 7\n",
      "Speaker 5: 81\n"
     ]
    }
   ],
   "source": [
    "feature_evaluation.evaluate_model_with_example(speaker_index=5, file_index=12)"
   ]
  }
 ],
 "metadata": {
  "kernelspec": {
   "display_name": "Python 3.10.10 64-bit",
   "language": "python",
   "name": "python3"
  },
  "language_info": {
   "codemirror_mode": {
    "name": "ipython",
    "version": 3
   },
   "file_extension": ".py",
   "mimetype": "text/x-python",
   "name": "python",
   "nbconvert_exporter": "python",
   "pygments_lexer": "ipython3",
   "version": "3.10.10"
  },
  "orig_nbformat": 4,
  "vscode": {
   "interpreter": {
    "hash": "bd385fe162c5ca0c84973b7dd5c518456272446b2b64e67c2a69f949ca7a1754"
   }
  }
 },
 "nbformat": 4,
 "nbformat_minor": 2
}
