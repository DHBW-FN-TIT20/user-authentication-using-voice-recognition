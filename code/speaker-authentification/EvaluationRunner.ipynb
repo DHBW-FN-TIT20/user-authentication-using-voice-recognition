{
 "cells": [
  {
   "cell_type": "code",
   "execution_count": 28,
   "metadata": {},
   "outputs": [
    {
     "name": "stdout",
     "output_type": "stream",
     "text": [
      "The autoreload extension is already loaded. To reload it, use:\n",
      "  %reload_ext autoreload\n"
     ]
    }
   ],
   "source": [
    "%load_ext autoreload\n",
    "%autoreload 2\n",
    "from FeatureEvaluation import FeatureEvaluator\n",
    "from FeatureExtractor.FeatureExtractor import Feature\n",
    "\n",
    "feature_evaluation = FeatureEvaluator(dataset_basepath=\"/Users/johannes/repos/t3000/code/data/50_speakers_audio_data\")\n",
    "# feature_evaluation = FeatureEvaluator(dataset_basepath=\"/home/henry/Downloads/archive/50_speakers_audio_data\")\n",
    "# feature_evaluation = FeatureEvaluator(dataset_basepath=\"C:\\\\Users\\\\SCU8BH\\\\Documents\\\\T3000\\\\Studienarbeit\\\\Data\\\\50_speakers_audio_data\")\n"
   ]
  },
  {
   "cell_type": "code",
   "execution_count": 29,
   "metadata": {},
   "outputs": [
    {
     "name": "stdout",
     "output_type": "stream",
     "text": [
      "8\n",
      "9\n",
      "8\n",
      "7\n",
      "9\n"
     ]
    }
   ],
   "source": [
    "feature_set = [\n",
    "  [Feature.MFCC, 13, [1, 2]],\n",
    "  [Feature.LPC, 13, []]\n",
    "]\n",
    "feature_evaluation.create_nn_data(total_input_chunks=5000, frames_per_chunk=20, n_speaker=5, start_at_speaker=1, feature_list=feature_set)"
   ]
  },
  {
   "cell_type": "code",
   "execution_count": 30,
   "metadata": {},
   "outputs": [
    {
     "name": "stdout",
     "output_type": "stream",
     "text": [
      "27/27 [==============================] - 0s 429us/step - loss: 1.6088 - accuracy: 0.2113\n",
      "Model accuracy not achieved, retrying...\n",
      "27/27 [==============================] - 0s 454us/step - loss: 1.4533 - accuracy: 0.6122\n",
      "Model accuracy not achieved, retrying...\n",
      "27/27 [==============================] - 0s 438us/step - loss: 1.6070 - accuracy: 0.2233\n",
      "Model accuracy not achieved, retrying...\n",
      "27/27 [==============================] - 0s 621us/step - loss: 0.1554 - accuracy: 0.9508\n",
      "Model accuracy achieved: 0.9507803320884705\n"
     ]
    }
   ],
   "source": [
    "feature_evaluation.create_model()"
   ]
  },
  {
   "cell_type": "code",
   "execution_count": 31,
   "metadata": {},
   "outputs": [
    {
     "name": "stdout",
     "output_type": "stream",
     "text": [
      "27/27 [==============================] - 0s 463us/step - loss: 0.1554 - accuracy: 0.9508\n",
      "Test accuracy: 0.9507803320884705\n",
      "Test loss: 0.1553909331560135\n",
      "4/4 [==============================] - 0s 2ms/step\n",
      "Speaker 1: 6\n",
      "Speaker 2: 5\n",
      "Speaker 3: 3\n",
      "Speaker 4: 2\n",
      "Speaker 5: 81\n",
      "Correct: 81, Incorrect: 16\n",
      "Diff correct - closest incorrect: 75\n"
     ]
    },
    {
     "data": {
      "text/plain": [
       "([{'speaker': 1, 'count': 6},\n",
       "  {'speaker': 2, 'count': 5},\n",
       "  {'speaker': 3, 'count': 3},\n",
       "  {'speaker': 4, 'count': 2},\n",
       "  {'speaker': 5, 'count': 81}],\n",
       " 81,\n",
       " 16,\n",
       " 75)"
      ]
     },
     "execution_count": 31,
     "metadata": {},
     "output_type": "execute_result"
    }
   ],
   "source": [
    "feature_evaluation.evaluate_model_with_example(speaker_index=5, file_index=15)"
   ]
  },
  {
   "cell_type": "code",
   "execution_count": 32,
   "metadata": {},
   "outputs": [
    {
     "name": "stdout",
     "output_type": "stream",
     "text": [
      "\u001b[2KEvaluation finishedd file 14 (Correct: 1753, Incorrect: 1017)\n",
      "Correct: 1848, Incorrect: 1028\n",
      "Average difference between correct and closest incorrect: 47.24\n"
     ]
    }
   ],
   "source": [
    "feature_evaluation.evaluate_extensively(speaker_indices=[1, 2, 3, 4, 5], file_indices=[10, 11, 12, 13, 14])"
   ]
  }
 ],
 "metadata": {
  "kernelspec": {
   "display_name": "Python 3.10.10 64-bit",
   "language": "python",
   "name": "python3"
  },
  "language_info": {
   "codemirror_mode": {
    "name": "ipython",
    "version": 3
   },
   "file_extension": ".py",
   "mimetype": "text/x-python",
   "name": "python",
   "nbconvert_exporter": "python",
   "pygments_lexer": "ipython3",
   "version": "3.10.10"
  },
  "orig_nbformat": 4,
  "vscode": {
   "interpreter": {
    "hash": "bd385fe162c5ca0c84973b7dd5c518456272446b2b64e67c2a69f949ca7a1754"
   }
  }
 },
 "nbformat": 4,
 "nbformat_minor": 2
}
