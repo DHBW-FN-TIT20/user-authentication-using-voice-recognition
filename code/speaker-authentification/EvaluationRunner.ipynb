{
 "cells": [
  {
   "cell_type": "code",
   "execution_count": 1,
   "metadata": {},
   "outputs": [
    {
     "name": "stderr",
     "output_type": "stream",
     "text": [
      "2023-03-04 11:03:19.842839: I tensorflow/core/platform/cpu_feature_guard.cc:193] This TensorFlow binary is optimized with oneAPI Deep Neural Network Library (oneDNN) to use the following CPU instructions in performance-critical operations:  AVX2 FMA\n",
      "To enable them in other operations, rebuild TensorFlow with the appropriate compiler flags.\n",
      "2023-03-04 11:03:20.236449: W tensorflow/compiler/xla/stream_executor/platform/default/dso_loader.cc:64] Could not load dynamic library 'libcudart.so.11.0'; dlerror: libcudart.so.11.0: cannot open shared object file: No such file or directory\n",
      "2023-03-04 11:03:20.236475: I tensorflow/compiler/xla/stream_executor/cuda/cudart_stub.cc:29] Ignore above cudart dlerror if you do not have a GPU set up on your machine.\n",
      "2023-03-04 11:03:21.231613: W tensorflow/compiler/xla/stream_executor/platform/default/dso_loader.cc:64] Could not load dynamic library 'libnvinfer.so.7'; dlerror: libnvinfer.so.7: cannot open shared object file: No such file or directory\n",
      "2023-03-04 11:03:21.231711: W tensorflow/compiler/xla/stream_executor/platform/default/dso_loader.cc:64] Could not load dynamic library 'libnvinfer_plugin.so.7'; dlerror: libnvinfer_plugin.so.7: cannot open shared object file: No such file or directory\n",
      "2023-03-04 11:03:21.231717: W tensorflow/compiler/tf2tensorrt/utils/py_utils.cc:38] TF-TRT Warning: Cannot dlopen some TensorRT libraries. If you would like to use Nvidia GPU with TensorRT, please make sure the missing libraries mentioned above are installed properly.\n"
     ]
    }
   ],
   "source": [
    "%load_ext autoreload\n",
    "%autoreload 2\n",
    "from FeatureEvaluation import FeatureEvaluator\n",
    "from FeatureExtractor.FeatureExtractor import Feature\n",
    "\n",
    "# feature_evaluation = FeatureEvaluator(dataset_basepath=\"/Users/johannes/repos/t3000/code/data/50_speakers_audio_data\")\n",
    "feature_evaluation = FeatureEvaluator(dataset_basepath=\"/home/henry/Downloads/archive/50_speakers_audio_data\")\n",
    "# feature_evaluation = FeatureEvaluator(dataset_basepath=\"C:\\\\Users\\\\SCU8BH\\\\Documents\\\\T3000\\\\Studienarbeit\\\\Data\\\\50_speakers_audio_data\")\n"
   ]
  },
  {
   "cell_type": "code",
   "execution_count": 4,
   "metadata": {},
   "outputs": [
    {
     "name": "stdout",
     "output_type": "stream",
     "text": [
      "0\r"
     ]
    },
    {
     "name": "stderr",
     "output_type": "stream",
     "text": [
      "/home/henry/.local/lib/python3.10/site-packages/librosa/core/spectrum.py:256: UserWarning: n_fft=2048 is too large for input signal of length=500\n",
      "  warnings.warn(\n"
     ]
    },
    {
     "name": "stdout",
     "output_type": "stream",
     "text": [
      "8\n",
      "9\n",
      "8\n",
      "7\n",
      "9\n"
     ]
    }
   ],
   "source": [
    "feature_set = [\n",
    "  [Feature.MFCC, 13, [1, 2]],\n",
    "  [Feature.LPC, 13, []]\n",
    "]\n",
    "feature_evaluation.create_nn_data(total_input_chunks=5000, frames_per_chunk=20, n_speaker=5, start_at_speaker=1, feature_list=feature_set)"
   ]
  },
  {
   "cell_type": "code",
   "execution_count": 12,
   "metadata": {},
   "outputs": [
    {
     "name": "stdout",
     "output_type": "stream",
     "text": [
      "27/27 [==============================] - 0s 1ms/step - loss: 0.2774 - accuracy: 0.8752\n",
      "Model accuracy not achieved, retrying...\n",
      "27/27 [==============================] - 0s 2ms/step - loss: 0.8444 - accuracy: 0.5522\n",
      "Model accuracy not achieved, retrying...\n",
      "27/27 [==============================] - 0s 1ms/step - loss: 0.8208 - accuracy: 0.6086\n",
      "Model accuracy not achieved, retrying...\n",
      "27/27 [==============================] - 0s 1ms/step - loss: 0.1333 - accuracy: 0.9424\n",
      "Model accuracy achieved: 0.942376971244812\n"
     ]
    }
   ],
   "source": [
    "feature_evaluation.create_model()"
   ]
  },
  {
   "cell_type": "code",
   "execution_count": 15,
   "metadata": {},
   "outputs": [
    {
     "name": "stdout",
     "output_type": "stream",
     "text": [
      "27/27 [==============================] - 0s 2ms/step - loss: 0.1333 - accuracy: 0.9424\n",
      "Test accuracy: 0.942376971244812\n",
      "Test loss: 0.1332949697971344\n",
      "4/4 [==============================] - 0s 2ms/step\n",
      "Speaker 1: 3\n",
      "Speaker 2: 5\n",
      "Speaker 3: 3\n",
      "Speaker 4: 1\n",
      "Speaker 5: 85\n"
     ]
    }
   ],
   "source": [
    "feature_evaluation.evaluate_model_with_example(speaker_index=5, file_index=15)"
   ]
  }
 ],
 "metadata": {
  "kernelspec": {
   "display_name": "Python 3",
   "language": "python",
   "name": "python3"
  },
  "language_info": {
   "codemirror_mode": {
    "name": "ipython",
    "version": 3
   },
   "file_extension": ".py",
   "mimetype": "text/x-python",
   "name": "python",
   "nbconvert_exporter": "python",
   "pygments_lexer": "ipython3",
   "version": "3.10.6"
  },
  "orig_nbformat": 4,
  "vscode": {
   "interpreter": {
    "hash": "916dbcbb3f70747c44a77c7bcd40155683ae19c65e1c03b4aa3499c5328201f1"
   }
  }
 },
 "nbformat": 4,
 "nbformat_minor": 2
}
