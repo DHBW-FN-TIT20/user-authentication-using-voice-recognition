{
 "cells": [
  {
   "cell_type": "code",
   "execution_count": null,
   "metadata": {},
   "outputs": [],
   "source": [
    "%load_ext autoreload\n",
    "%autoreload 2\n",
    "from FeatureExtractor.FeatureExtractor import Feature\n",
    "from FeatureEvaluator.FeatureEvaluator import FeatureEvaluator\n",
    "\n",
    "import numpy as np"
   ]
  },
  {
   "cell_type": "code",
   "execution_count": null,
   "metadata": {},
   "outputs": [],
   "source": [
    "evaluator = FeatureEvaluator(\"/home/henry/Downloads/archive/50_speakers_audio_data\")\n",
    "# evaluator = FeatureEvaluator(\"/Users/johannes/repos/t3000/code/data/50_speakers_audio_data\")"
   ]
  },
  {
   "cell_type": "code",
   "execution_count": null,
   "metadata": {},
   "outputs": [],
   "source": [
    "X, y = evaluator.create_dataset([21, 22, 23, 24, 25, 26, 27, 28, 29, 30], [[Feature.LPC, 12, []]], 30, 1000, 500, 100, np.hanning, start_at_file_index=0)\n",
    "evaluator.set_model_dataset(X, y)"
   ]
  },
  {
   "cell_type": "code",
   "execution_count": null,
   "metadata": {},
   "outputs": [],
   "source": [
    "X, y = evaluator.create_dataset([21, 22, 23, 24, 25, 26, 27, 28, 29, 30], [[Feature.LPC, 12, []]], 30, 1000, 500, 100, np.hanning, start_at_file_index=15)\n",
    "evaluator.set_evaluation_dataset(X, y)"
   ]
  },
  {
   "cell_type": "code",
   "execution_count": null,
   "metadata": {},
   "outputs": [],
   "source": [
    "evaluator.create_nn_model(epochs=1000)"
   ]
  },
  {
   "cell_type": "code",
   "execution_count": null,
   "metadata": {},
   "outputs": [],
   "source": [
    "evaluator.evaluate_model()"
   ]
  },
  {
   "cell_type": "code",
   "execution_count": null,
   "metadata": {},
   "outputs": [],
   "source": [
    "# X, y = evaluator.create_dataset([20], [[Feature.LPC, 12, []]], 30, 1000, 500, 100, np.hanning, start_at_file_index=15)\n",
    "X, y = evaluator.get_evaluation_dataset()\n",
    "\n",
    "evaluator.predict(np.asarray(X[9000:10000]))"
   ]
  }
 ],
 "metadata": {
  "language_info": {
   "name": "python"
  },
  "orig_nbformat": 4
 },
 "nbformat": 4,
 "nbformat_minor": 2
}
