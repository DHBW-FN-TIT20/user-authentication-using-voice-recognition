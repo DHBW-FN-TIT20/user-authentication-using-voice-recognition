{
 "cells": [
  {
   "cell_type": "code",
   "execution_count": 4,
   "metadata": {},
   "outputs": [
    {
     "name": "stdout",
     "output_type": "stream",
     "text": [
      "The autoreload extension is already loaded. To reload it, use:\n",
      "  %reload_ext autoreload\n"
     ]
    }
   ],
   "source": [
    "%load_ext autoreload\n",
    "%autoreload 2\n",
    "from FeatureExtractor.FeatureExtractor import Feature\n",
    "from FeatureEvaluator.FeatureEvaluator import FeatureEvaluator\n",
    "\n",
    "import numpy as np"
   ]
  },
  {
   "cell_type": "code",
   "execution_count": 2,
   "metadata": {},
   "outputs": [],
   "source": [
    "evaluator = FeatureEvaluator(\"/home/henry/Downloads/archive/50_speakers_audio_data\")\n",
    "# evaluator = FeatureEvaluator(\"/Users/johannes/repos/t3000/code/data/50_speakers_audio_data\")"
   ]
  },
  {
   "cell_type": "code",
   "execution_count": 5,
   "metadata": {},
   "outputs": [
    {
     "name": "stdout",
     "output_type": "stream",
     "text": [
      "Create dataset process started.\n",
      "500 samples per frame, 100 samples overlap, 30000 frames per speaker.\n",
      "\n",
      "Creating dataset for speaker 21:\n",
      "Extracted features for 31037 frames from 15 files.\n",
      "Concatenating frames to chunks of 30 frames ...\n",
      "Created 1035 chunks, using first 1000 chunks.\n",
      "\n",
      "Creating dataset for speaker 22:\n",
      "Extracted features for 30077 frames from 12 files.\n",
      "Concatenating frames to chunks of 30 frames ...\n",
      "Created 1003 chunks, using first 1000 chunks.\n",
      "\n",
      "Creating dataset for speaker 23:\n",
      "Extracted features for 32181 frames from 14 files.\n",
      "Concatenating frames to chunks of 30 frames ...\n",
      "Created 1073 chunks, using first 1000 chunks.\n",
      "\n",
      "Creating dataset for speaker 24:\n",
      "Extracted features for 30697 frames from 14 files.\n",
      "Concatenating frames to chunks of 30 frames ...\n",
      "Created 1024 chunks, using first 1000 chunks.\n",
      "\n",
      "Creating dataset for speaker 25:\n",
      "Extracted features for 31827 frames from 13 files.\n",
      "Concatenating frames to chunks of 30 frames ...\n",
      "Created 1061 chunks, using first 1000 chunks.\n",
      "\n",
      "Creating dataset for speaker 26:\n",
      "Extracted features for 31245 frames from 15 files.\n",
      "Concatenating frames to chunks of 30 frames ...\n",
      "Created 1042 chunks, using first 1000 chunks.\n",
      "\n",
      "Creating dataset for speaker 27:\n",
      "Extracted features for 32260 frames from 14 files.\n",
      "Concatenating frames to chunks of 30 frames ...\n",
      "Created 1076 chunks, using first 1000 chunks.\n",
      "\n",
      "Creating dataset for speaker 28:\n",
      "Extracted features for 31150 frames from 16 files.\n",
      "Concatenating frames to chunks of 30 frames ...\n",
      "Created 1039 chunks, using first 1000 chunks.\n",
      "\n",
      "Creating dataset for speaker 29:\n",
      "Extracted features for 33064 frames from 10 files.\n",
      "Concatenating frames to chunks of 30 frames ...\n",
      "Created 1103 chunks, using first 1000 chunks.\n",
      "\n",
      "Creating dataset for speaker 30:\n",
      "Extracted features for 31038 frames from 12 files.\n",
      "Concatenating frames to chunks of 30 frames ...\n",
      "Created 1035 chunks, using first 1000 chunks.\n",
      "\n",
      "Dataset created.\n"
     ]
    }
   ],
   "source": [
    "X, y = evaluator.create_dataset([21, 22, 23, 24, 25, 26, 27, 28, 29, 30], [[Feature.LPC, 12, []]], 30, 1000, 500, 100, np.hanning, start_at_file_index=0)\n",
    "evaluator.set_model_dataset(X, y)"
   ]
  },
  {
   "cell_type": "code",
   "execution_count": 9,
   "metadata": {},
   "outputs": [
    {
     "name": "stdout",
     "output_type": "stream",
     "text": [
      "Create dataset process started.\n",
      "500 samples per frame, 100 samples overlap, 30000 frames per speaker.\n",
      "\n",
      "Creating dataset for speaker 21:\n",
      "Extracted features for 30731 frames from 15 files.\n",
      "Concatenating frames to chunks of 30 frames ...\n",
      "Created 1025 chunks, using first 1000 chunks.\n",
      "\n",
      "Dataset created.\n"
     ]
    }
   ],
   "source": [
    "X, y = evaluator.create_dataset([21, 22, 23, 24, 25, 26, 27, 28, 29, 30], [[Feature.LPC, 12, []]], 30, 1000, 500, 100, np.hanning, start_at_file_index=15)\n",
    "evaluator.set_evaluation_dataset(X, y)"
   ]
  },
  {
   "cell_type": "code",
   "execution_count": 6,
   "metadata": {},
   "outputs": [
    {
     "name": "stderr",
     "output_type": "stream",
     "text": [
      "2023-04-14 16:20:16.080908: W tensorflow/compiler/xla/stream_executor/platform/default/dso_loader.cc:64] Could not load dynamic library 'libcuda.so.1'; dlerror: libcuda.so.1: cannot open shared object file: No such file or directory\n",
      "2023-04-14 16:20:16.081251: W tensorflow/compiler/xla/stream_executor/cuda/cuda_driver.cc:265] failed call to cuInit: UNKNOWN ERROR (303)\n",
      "2023-04-14 16:20:16.081290: I tensorflow/compiler/xla/stream_executor/cuda/cuda_diagnostics.cc:156] kernel driver does not appear to be running on this host (pop-os): /proc/driver/nvidia/version does not exist\n",
      "2023-04-14 16:20:16.081999: I tensorflow/core/platform/cpu_feature_guard.cc:193] This TensorFlow binary is optimized with oneAPI Deep Neural Network Library (oneDNN) to use the following CPU instructions in performance-critical operations:  AVX2 FMA\n",
      "To enable them in other operations, rebuild TensorFlow with the appropriate compiler flags.\n"
     ]
    }
   ],
   "source": [
    "evaluator.create_nn_model(epochs=1000)"
   ]
  },
  {
   "cell_type": "code",
   "execution_count": 10,
   "metadata": {},
   "outputs": [
    {
     "name": "stdout",
     "output_type": "stream",
     "text": [
      "Model loss: 0.953727662563324\n",
      "Model accuracy: 0.5450000166893005\n"
     ]
    }
   ],
   "source": [
    "evaluator.evaluate_model()"
   ]
  },
  {
   "cell_type": "code",
   "execution_count": 12,
   "metadata": {},
   "outputs": [
    {
     "name": "stdout",
     "output_type": "stream",
     "text": [
      "32/32 [==============================] - 0s 2ms/step\n",
      "ID 21: 545\n",
      "ID 23: 279\n",
      "ID 24: 117\n",
      "ID 25: 58\n",
      "ID 30: 1\n"
     ]
    }
   ],
   "source": [
    "# X, y = evaluator.create_dataset([20], [[Feature.LPC, 12, []]], 30, 1000, 500, 100, np.hanning, start_at_file_index=15)\n",
    "X, y = evaluator.get_evaluation_dataset()\n",
    "\n",
    "evaluator.predict(np.asarray(X[0000:1000]))"
   ]
  }
 ],
 "metadata": {
  "kernelspec": {
   "display_name": "Python 3",
   "language": "python",
   "name": "python3"
  },
  "language_info": {
   "codemirror_mode": {
    "name": "ipython",
    "version": 3
   },
   "file_extension": ".py",
   "mimetype": "text/x-python",
   "name": "python",
   "nbconvert_exporter": "python",
   "pygments_lexer": "ipython3",
   "version": "3.10.6"
  },
  "orig_nbformat": 4
 },
 "nbformat": 4,
 "nbformat_minor": 2
}
